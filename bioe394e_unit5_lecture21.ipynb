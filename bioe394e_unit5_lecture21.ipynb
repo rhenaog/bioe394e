{
 "cells": [
  {
   "cell_type": "markdown",
   "metadata": {},
   "source": [
    "# Implementing Embeddings and Recurrent Neural Networks (RNNs) in PyTorch\n",
    "\n",
    "**Introduction to Deep Learning (BioE 394E)**  \n",
    "(Adapted from notebooks by [Kevin Liang](https://github.com/duke-mlss/Duke-Tsinghua-MLSS-2017/blob/master/03A_Variational_Autoencoder.ipynb) and [Sovit Rath](https://debuggercafe.com/getting-started-with-variational-autoencoder-using-pytorch/))."
   ]
  },
  {
   "cell_type": "markdown",
   "metadata": {},
   "source": [
    "## Import packages"
   ]
  },
  {
   "cell_type": "code",
   "execution_count": 1,
   "id": "2d244895",
   "metadata": {},
   "outputs": [],
   "source": [
    "import numpy as np\n",
    "import matplotlib.pyplot as plt\n",
    "import os,sys\n",
    "import string\n",
    "import random\n",
    "from tqdm import tqdm\n",
    "from sklearn.metrics import roc_auc_score\n",
    "from sklearn.manifold import TSNE\n",
    "\n",
    "import torch\n",
    "import torch.nn as nn\n",
    "import torch.nn.functional as F\n",
    "import torch.optim as optim\n",
    "import torchtext\n",
    "\n",
    "SEED = 1\n",
    "torch.manual_seed(SEED)\n",
    "torch.backends.cudnn.deterministic = True"
   ]
  },
  {
   "cell_type": "markdown",
   "id": "290525c7",
   "metadata": {},
   "source": [
    "## Computing Word Embeddings"
   ]
  },
  {
   "cell_type": "code",
   "execution_count": 2,
   "metadata": {},
   "outputs": [
    {
     "name": "stdout",
     "output_type": "stream",
     "text": [
      "[(['When', 'forty'], 'winters'), (['forty', 'winters'], 'shall'), (['winters', 'shall'], 'besiege')]\n"
     ]
    }
   ],
   "source": [
    "CONTEXT_SIZE = 2\n",
    "\n",
    "# We will use Shakespeare Sonnet 2\n",
    "test_sentence = \"\"\"When forty winters shall besiege thy brow,\n",
    "And dig deep trenches in thy beauty's field,\n",
    "Thy youth's proud livery so gazed on now,\n",
    "Will be a totter'd weed of small worth held:\n",
    "Then being asked, where all thy beauty lies,\n",
    "Where all the treasure of thy lusty days;\n",
    "To say, within thine own deep sunken eyes,\n",
    "Were an all-eating shame, and thriftless praise.\n",
    "How much more praise deserv'd thy beauty's use,\n",
    "If thou couldst answer 'This fair child of mine\n",
    "Shall sum my count, and make my old excuse,'\n",
    "Proving his beauty by succession thine!\n",
    "This were to be new made when thou art old,\n",
    "And see thy blood warm when thou feel'st it cold.\"\"\"\n",
    "\n",
    "# remove punctuation and split by spaces\n",
    "test_sentence = test_sentence.translate(str.maketrans('', '', string.punctuation))\n",
    "test_sentence = test_sentence.split()\n",
    "\n",
    "# we should tokenize the input, but we will ignore that for now\n",
    "# build a list of tuples. Each tuple is ([ word_i-2, word_i-1 ], target word)\n",
    "trigrams = [([test_sentence[i], test_sentence[i + 1]], test_sentence[i + 2])\n",
    "            for i in range(len(test_sentence) - 2)]\n",
    "\n",
    "# print the first 3, just so you can see what they look like\n",
    "print(trigrams[:3])"
   ]
  },
  {
   "cell_type": "code",
   "execution_count": 8,
   "metadata": {},
   "outputs": [
    {
     "data": {
      "text/plain": [
       "1"
      ]
     },
     "execution_count": 8,
     "metadata": {},
     "output_type": "execute_result"
    }
   ],
   "source": [
    "vocab = set(test_sentence)\n",
    "word_to_ix = {word: i for i, word in enumerate(vocab)}\n",
    "\n",
    "word_to_ix[\"all\"]"
   ]
  },
  {
   "cell_type": "code",
   "execution_count": 9,
   "metadata": {},
   "outputs": [],
   "source": [
    "# create cbow model\n",
    "class NGramLanguageModeler(nn.Module):\n",
    "\n",
    "    def __init__(self, vocab_size, embedding_dim, context_size):\n",
    "        super(NGramLanguageModeler, self).__init__()\n",
    "        self.embeddings = nn.Embedding(vocab_size, embedding_dim)\n",
    "        self.linear1 = nn.Linear(context_size * embedding_dim, 128)\n",
    "        self.linear2 = nn.Linear(128, vocab_size)\n",
    "\n",
    "    def forward(self, inputs):\n",
    "        embeds = self.embeddings(inputs).view((1, -1))\n",
    "        out = F.relu(self.linear1(embeds))\n",
    "        out = self.linear2(out)\n",
    "        log_probs = F.log_softmax(out, dim=1)\n",
    "        return log_probs"
   ]
  },
  {
   "cell_type": "code",
   "execution_count": 10,
   "metadata": {},
   "outputs": [],
   "source": [
    "EMBEDDING_DIM = 10\n",
    "\n",
    "# set loss, optimizer and model\n",
    "losses = []\n",
    "loss_function = nn.NLLLoss()\n",
    "model = NGramLanguageModeler(len(vocab), EMBEDDING_DIM, CONTEXT_SIZE)\n",
    "optimizer = optim.SGD(model.parameters(), lr=0.001)"
   ]
  },
  {
   "cell_type": "code",
   "execution_count": 11,
   "id": "4393145c",
   "metadata": {},
   "outputs": [],
   "source": [
    "# train model\n",
    "for epoch in range(200):\n",
    "    total_loss = 0\n",
    "    for context, target in trigrams:\n",
    "\n",
    "        # Step 1. Prepare the inputs to be passed to the model (i.e, turn the words\n",
    "        # into integer indices and wrap them in tensors)\n",
    "        context_idxs = torch.tensor([word_to_ix[w] for w in context], dtype=torch.long)\n",
    "\n",
    "        # Step 2. Recall that torch *accumulates* gradients. Before passing in a\n",
    "        # new instance, you need to zero out the gradients from the old\n",
    "        # instance\n",
    "        model.zero_grad()\n",
    "\n",
    "        # Step 3. Run the forward pass, getting log probabilities over next\n",
    "        # words\n",
    "        log_probs = model(context_idxs)\n",
    "\n",
    "        # Step 4. Compute your loss function. (Again, Torch wants the target\n",
    "        # word wrapped in a tensor)\n",
    "        loss = loss_function(log_probs, torch.tensor([word_to_ix[target]], dtype=torch.long))\n",
    "\n",
    "        # Step 5. Do the backward pass and update the gradient\n",
    "        loss.backward()\n",
    "        optimizer.step()\n",
    "\n",
    "        # Get the Python number from a 1-element Tensor by calling tensor.item()\n",
    "        total_loss += loss.item()\n",
    "    losses.append(total_loss)"
   ]
  },
  {
   "cell_type": "code",
   "execution_count": 12,
   "metadata": {},
   "outputs": [
    {
     "data": {
      "text/plain": [
       "[<matplotlib.lines.Line2D at 0x16c0b0dd0>]"
      ]
     },
     "execution_count": 12,
     "metadata": {},
     "output_type": "execute_result"
    },
    {
     "data": {
      "image/png": "[encoded data removed]",
      "text/plain": [
       "<Figure size 640x480 with 1 Axes>"
      ]
     },
     "metadata": {},
     "output_type": "display_data"
    }
   ],
   "source": [
    "plt.figure()\n",
    "plt.plot(losses)"
   ]
  },
  {
   "cell_type": "code",
   "execution_count": 13,
   "metadata": {},
   "outputs": [
    {
     "name": "stdout",
     "output_type": "stream",
     "text": [
      "tensor([-1.4152, -0.9899,  1.2303,  0.1040,  0.7060,  1.8807, -1.5620, -1.5410,\n",
      "         0.3119, -0.7975], grad_fn=<SelectBackward0>)\n"
     ]
    }
   ],
   "source": [
    "# To get the embedding of a particular word, e.g. \"beauty\"\n",
    "print(model.embeddings.weight[word_to_ix[\"beauty\"]])"
   ]
  },
  {
   "cell_type": "code",
   "execution_count": 14,
   "id": "494ca064",
   "metadata": {},
   "outputs": [],
   "source": [
    "# TSNE visualization of embeddings\n",
    "embs = torch.stack([model.embeddings.weight[word_to_ix[word]] for word in vocab]).detach().numpy()\n",
    "labels = [word for word in vocab]\n",
    "\n",
    "embs_2d = TSNE(n_components=2).fit_transform(embs)"
   ]
  },
  {
   "cell_type": "code",
   "execution_count": 15,
   "id": "a8d73e4d",
   "metadata": {},
   "outputs": [
    {
     "data": {
      "image/png": "[encoded data removed]",
      "text/plain": [
       "<Figure size 800x800 with 1 Axes>"
      ]
     },
     "metadata": {},
     "output_type": "display_data"
    }
   ],
   "source": [
    "fig, ax = plt.subplots(figsize=(8,8))\n",
    "ax.scatter(embs_2d[:,0], embs_2d[:,1])\n",
    "\n",
    "for i, txt in enumerate(labels):\n",
    "    ax.annotate(txt, (embs_2d[i,0], embs_2d[i,1]))"
   ]
  },
  {
   "cell_type": "markdown",
   "id": "37c571b5",
   "metadata": {},
   "source": [
    "# Sentiment Classification on the IMDB dataset"
   ]
  },
  {
   "cell_type": "code",
   "execution_count": 16,
   "id": "07244759",
   "metadata": {},
   "outputs": [],
   "source": [
    "# create tokenizer with basic dictionary\n",
    "TEXT = torchtext.data.Field(tokenizer_language = 'basic_english')\n",
    "LABEL = torchtext.data.LabelField(dtype = torch.float)"
   ]
  },
  {
   "cell_type": "code",
   "execution_count": 17,
   "id": "d924cb4f",
   "metadata": {},
   "outputs": [],
   "source": [
    "train_data, test_data = torchtext.datasets.IMDB.splits(TEXT, LABEL)"
   ]
  },
  {
   "cell_type": "code",
   "execution_count": 18,
   "id": "724d422f",
   "metadata": {},
   "outputs": [
    {
     "name": "stdout",
     "output_type": "stream",
     "text": [
      "Number of training examples: 25000\n",
      "Number of testing examples: 25000\n"
     ]
    }
   ],
   "source": [
    "print(f'Number of training examples: {len(train_data)}')\n",
    "print(f'Number of testing examples: {len(test_data)}')"
   ]
  },
  {
   "cell_type": "code",
   "execution_count": 19,
   "id": "bea0c19e",
   "metadata": {},
   "outputs": [
    {
     "name": "stdout",
     "output_type": "stream",
     "text": [
      "{'text': ['For', 'a', 'movie', 'that', 'gets', 'no', 'respect', 'there', 'sure', 'are', 'a', 'lot', 'of', 'memorable', 'quotes', 'listed', 'for', 'this', 'gem.', 'Imagine', 'a', 'movie', 'where', 'Joe', 'Piscopo', 'is', 'actually', 'funny!', 'Maureen', 'Stapleton', 'is', 'a', 'scene', 'stealer.', 'The', 'Moroni', 'character', 'is', 'an', 'absolute', 'scream.', 'Watch', 'for', 'Alan', '\"The', 'Skipper\"', 'Hale', 'jr.', 'as', 'a', 'police', 'Sgt.'], 'label': 'pos'}\n"
     ]
    }
   ],
   "source": [
    "print(vars(train_data.examples[0]))"
   ]
  },
  {
   "cell_type": "code",
   "execution_count": 20,
   "id": "2cf78334",
   "metadata": {},
   "outputs": [],
   "source": [
    "train_data, valid_data = train_data.split(random_state = random.seed(SEED))"
   ]
  },
  {
   "cell_type": "code",
   "execution_count": 21,
   "id": "4a3aa395",
   "metadata": {},
   "outputs": [
    {
     "name": "stdout",
     "output_type": "stream",
     "text": [
      "Number of training examples: 17500\n",
      "Number of validation examples: 7500\n",
      "Number of testing examples: 25000\n"
     ]
    }
   ],
   "source": [
    "print(f'Number of training examples: {len(train_data)}')\n",
    "print(f'Number of validation examples: {len(valid_data)}')\n",
    "print(f'Number of testing examples: {len(test_data)}')"
   ]
  },
  {
   "cell_type": "code",
   "execution_count": 22,
   "id": "4e7c9868",
   "metadata": {},
   "outputs": [],
   "source": [
    "TEXT.build_vocab(train_data, vectors='glove.6B.50d')\n",
    "LABEL.build_vocab(train_data)"
   ]
  },
  {
   "cell_type": "code",
   "execution_count": 23,
   "id": "00e475de",
   "metadata": {},
   "outputs": [
    {
     "name": "stdout",
     "output_type": "stream",
     "text": [
      "Unique tokens in TEXT vocabulary: 224428\n",
      "Unique tokens in LABEL vocabulary: 2\n"
     ]
    }
   ],
   "source": [
    "print(f\"Unique tokens in TEXT vocabulary: {len(TEXT.vocab)}\")\n",
    "print(f\"Unique tokens in LABEL vocabulary: {len(LABEL.vocab)}\")"
   ]
  },
  {
   "cell_type": "code",
   "execution_count": 24,
   "id": "0378de67",
   "metadata": {},
   "outputs": [
    {
     "name": "stdout",
     "output_type": "stream",
     "text": [
      "[('the', 200714), ('a', 108362), ('and', 106643), ('of', 100046), ('to', 93152), ('is', 72104), ('in', 59701), ('I', 46420), ('that', 45281), ('this', 40144), ('it', 38172), ('/><br', 35632), ('was', 32551), ('as', 29641), ('with', 29266), ('for', 28713), ('but', 23712), ('The', 23645), ('on', 21540), ('movie', 21405)]\n"
     ]
    }
   ],
   "source": [
    "print(TEXT.vocab.freqs.most_common(20))"
   ]
  },
  {
   "cell_type": "code",
   "execution_count": 25,
   "id": "28f48635",
   "metadata": {},
   "outputs": [],
   "source": [
    "# basic swem model (average embeddings and logistic regression)\n",
    "def get_batch_sentence_embeddings(batch):\n",
    "    sentence_embeddings = []\n",
    "    for text in batch.text.transpose(1,0):\n",
    "        filtered_text = text[(text!=0)&(text!=1)] # removes <unk> and <pad> tokens\n",
    "        sentence_emb = torch.mean(TEXT.vocab.vectors[filtered_text],axis=0)\n",
    "        sentence_embeddings.append(sentence_emb)\n",
    "    \n",
    "    return torch.stack(sentence_embeddings)\n",
    "\n",
    "class LogisticRegression(torch.nn.Module):\n",
    "    def __init__(self, input_dim):\n",
    "        super(LogisticRegression, self).__init__()\n",
    "        self.linear = torch.nn.Linear(input_dim,1)\n",
    "\n",
    "    def forward(self, x):\n",
    "        outputs = self.linear(x)\n",
    "        return outputs"
   ]
  },
  {
   "cell_type": "code",
   "execution_count": 26,
   "id": "abc56c94",
   "metadata": {},
   "outputs": [],
   "source": [
    "# create dataloader\n",
    "BATCH_SIZE = 128\n",
    "\n",
    "device = torch.device('cuda' if torch.cuda.is_available() else 'cpu')\n",
    "\n",
    "train_iterator, valid_iterator, test_iterator = torchtext.data.BucketIterator.splits(\n",
    "    (train_data, valid_data, test_data), \n",
    "    batch_size = BATCH_SIZE,\n",
    "    device = device)\n",
    "\n",
    "# model + loss + optimizer\n",
    "model = LogisticRegression(input_dim=50)\n",
    "criterion = torch.nn.BCEWithLogitsLoss()\n",
    "optimizer = torch.optim.SGD(model.parameters(), lr=1e-2)"
   ]
  },
  {
   "cell_type": "code",
   "execution_count": 27,
   "id": "ff3bd0c9",
   "metadata": {},
   "outputs": [
    {
     "name": "stderr",
     "output_type": "stream",
     "text": [
      "137it [00:02, 49.84it/s]\n",
      "137it [00:02, 51.96it/s]\n",
      "137it [00:02, 50.18it/s]\n",
      "137it [00:02, 51.76it/s]\n",
      "137it [00:02, 51.08it/s]\n",
      "137it [00:02, 49.56it/s]\n",
      "137it [00:03, 44.18it/s]\n",
      "137it [00:02, 45.70it/s]\n",
      "137it [00:03, 45.38it/s]\n",
      "137it [00:02, 47.09it/s]\n",
      "137it [00:02, 50.15it/s]\n",
      "137it [00:02, 50.76it/s]\n",
      "137it [00:02, 49.95it/s]\n",
      "137it [00:02, 51.41it/s]\n",
      "137it [00:02, 51.09it/s]\n",
      "137it [00:02, 49.92it/s]\n",
      "137it [00:02, 49.53it/s]\n",
      "137it [00:02, 49.87it/s]\n",
      "137it [00:02, 49.21it/s]\n",
      "137it [00:02, 50.62it/s]\n",
      "137it [00:02, 50.70it/s]\n",
      "137it [00:02, 50.50it/s]\n",
      "137it [00:02, 50.62it/s]\n",
      "137it [00:02, 50.27it/s]\n",
      "137it [00:02, 49.92it/s]\n",
      "137it [00:02, 50.90it/s]\n",
      "137it [00:02, 50.18it/s]\n",
      "137it [00:02, 50.15it/s]\n",
      "137it [00:02, 48.22it/s]\n",
      "137it [00:02, 49.65it/s]\n"
     ]
    }
   ],
   "source": [
    "# train model\n",
    "epochs = 30\n",
    "\n",
    "losses = []\n",
    "for epoch in range(int(epochs)):\n",
    "    for i,batch in tqdm(enumerate(train_iterator)):\n",
    "        \n",
    "        sentence_embeddings = get_batch_sentence_embeddings(batch)\n",
    "        optimizer.zero_grad()\n",
    "        outputs = model(sentence_embeddings)\n",
    "        loss = criterion(outputs.reshape(-1), batch.label)\n",
    "        loss.backward()\n",
    "        optimizer.step()\n",
    "        \n",
    "    losses.append(loss.item())"
   ]
  },
  {
   "cell_type": "code",
   "execution_count": 28,
   "id": "97873a02",
   "metadata": {},
   "outputs": [],
   "source": [
    " # calculate auc on test data\n",
    "def compute_metrics(iterator,model):\n",
    "    model.eval()\n",
    "    all_preds = []\n",
    "    all_labels = []\n",
    "    for batch in iterator:\n",
    "        sentence_embeddings = get_batch_sentence_embeddings(batch)\n",
    "        with torch.no_grad():\n",
    "            all_preds.extend(list(model(sentence_embeddings).detach().numpy()))\n",
    "        all_labels.extend(list(batch.label.detach().numpy()))\n",
    "    \n",
    "    return {'auc': roc_auc_score(all_labels,all_preds)}"
   ]
  },
  {
   "cell_type": "code",
   "execution_count": 29,
   "id": "778252d3",
   "metadata": {},
   "outputs": [
    {
     "data": {
      "text/plain": [
       "{'auc': 0.7322673632}"
      ]
     },
     "execution_count": 29,
     "metadata": {},
     "output_type": "execute_result"
    }
   ],
   "source": [
    "compute_metrics(test_iterator,model)"
   ]
  },
  {
   "cell_type": "code",
   "execution_count": 46,
   "metadata": {},
   "outputs": [],
   "source": [
    "class LSTM(nn.Module):\n",
    "\n",
    "    def __init__(self, vocab_size, embedding_dim, hidden_dim):\n",
    "        super(LSTM, self).__init__()\n",
    "\n",
    "        self.embedding = nn.Embedding(vocab_size, embedding_dim).requires_grad_(False)\n",
    "\n",
    "        self.lstm = nn.LSTM(embedding_dim, hidden_dim, num_layers=1,\n",
    "                            bidirectional=True )#, dropout=0.5)\n",
    "\n",
    "        # classification head\n",
    "        self.fc = nn.Linear(hidden_dim * 1, 1)\n",
    "        self.dropout = nn.Dropout(0.1)\n",
    "\n",
    "    def forward(self, x):\n",
    "        # [seq, b, 1] => [seq, b, d]\n",
    "        embedding = self.dropout(self.embedding(x))\n",
    "\n",
    "        # output: [seq, b, hid_dim*1]\n",
    "        # h: [num_layers*1, b, hid_dim]\n",
    "        # c: [num_layers*1, b, hid_dim]\n",
    "        output, (h, c) = self.lstm(embedding)\n",
    "\n",
    "        # [num_layers*2, b, hid_dim] =>2 of [b, hid_dim] => [b, hid_dim*2]\n",
    "        # h = torch.cat([h[-2], h[-1]], dim=1)\n",
    "\n",
    "        # [b, hid_dim*2] => [b, 1]\n",
    "        h = self.dropout(h[-1])\n",
    "        out = self.fc(h)\n",
    "\n",
    "        return out\n",
    "\n",
    "model = LSTM(len(TEXT.vocab), 50, 8)"
   ]
  },
  {
   "cell_type": "code",
   "execution_count": 47,
   "metadata": {},
   "outputs": [
    {
     "name": "stdout",
     "output_type": "stream",
     "text": [
      "pretrained_embedding: torch.Size([224428, 50])\n"
     ]
    }
   ],
   "source": [
    "# set optimizer, loss and accuracy\n",
    "pretrained_embedding = TEXT.vocab.vectors\n",
    "print(f\"pretrained_embedding: {pretrained_embedding.shape}\")\n",
    "model.embedding.weight.data.copy_(pretrained_embedding)\n",
    "\n",
    "optimizer = optim.Adam(model.parameters(), lr=1e-3)\n",
    "criterion = nn.BCEWithLogitsLoss().to(device)\n",
    "model.to(device)\n",
    "\n",
    "def binary_acc(preds, y):\n",
    "    preds = torch.round(torch.sigmoid(preds))\n",
    "    correct = torch.eq(preds, y).float()\n",
    "    acc = correct.sum() / len(correct)\n",
    "    return acc"
   ]
  },
  {
   "cell_type": "code",
   "execution_count": 48,
   "metadata": {},
   "outputs": [],
   "source": [
    "def train(model, iterator, optimizer, criterion):\n",
    "    avg_acc = []\n",
    "    model.train()\n",
    "\n",
    "    for i, batch in enumerate(iterator):\n",
    "\n",
    "        # [seq, b] => [b, 1] => [b]\n",
    "        pred = model(batch.text).squeeze(1)\n",
    "\n",
    "        loss = criterion(pred, batch.label)\n",
    "        acc = binary_acc(pred, batch.label).item()\n",
    "        avg_acc.append(acc)\n",
    "\n",
    "        model.zero_grad()\n",
    "        loss.backward()\n",
    "        optimizer.step()\n",
    "\n",
    "    avg_acc = np.array(avg_acc).mean()\n",
    "    print(f\"avg acc: {avg_acc}\")\n",
    "\n",
    "\n",
    "def eval(model, iterator, criterion):\n",
    "    avg_acc = []\n",
    "\n",
    "    model.eval()\n",
    "    all_preds = []\n",
    "    all_labels = []\n",
    "    \n",
    "    with torch.no_grad():\n",
    "        for batch in iterator:\n",
    "            # [b, 1] => [b]\n",
    "            pred = model(batch.text).squeeze(1)\n",
    "\n",
    "            # loss = criterion(pred, batch.label)\n",
    "\n",
    "            acc = binary_acc(pred, batch.label).item()\n",
    "            avg_acc.append(acc)\n",
    "\n",
    "            all_preds.extend(list(pred.detach().numpy()))\n",
    "            all_labels.extend(list(batch.label.detach().numpy()))\n",
    "\n",
    "    avg_acc = np.array(avg_acc).mean()\n",
    "    auc = roc_auc_score(all_labels,all_preds)\n",
    "\n",
    "    print(f\"test: {avg_acc}, 'auc': {auc}\")"
   ]
  },
  {
   "cell_type": "code",
   "execution_count": 49,
   "metadata": {},
   "outputs": [
    {
     "name": "stdout",
     "output_type": "stream",
     "text": [
      "test: 0.5000876912048885, 'auc': 0.46657608959999997\n",
      "avg acc: 0.5180994128658823\n",
      "test: 0.5417091837342904, 'auc': 0.5575158976000001\n",
      "avg acc: 0.5679918079480638\n",
      "test: 0.6119021046526578, 'auc': 0.6538343904\n",
      "avg acc: 0.6133023248101673\n",
      "test: 0.6571588011420503, 'auc': 0.7027088864\n",
      "avg acc: 0.6493325533658049\n",
      "test: 0.6236846301020408, 'auc': 0.6688274783999999\n",
      "avg acc: 0.6568723220894807\n"
     ]
    }
   ],
   "source": [
    "for epoch in range(5):\n",
    "    eval(model, test_iterator, criterion)\n",
    "    train(model, train_iterator, optimizer, criterion)"
   ]
  },
  {
   "cell_type": "markdown",
   "id": "b4b2551b",
   "metadata": {},
   "source": [
    "## References"
   ]
  },
  {
   "cell_type": "markdown",
   "id": "f8bda2b7",
   "metadata": {},
   "source": [
    "Guthrie, Robert. “Word Embeddings: Encoding Lexical Semantics¶.” Word Embeddings: Encoding Lexical Semantics - PyTorch Tutorials 1.8.1+cu102 Documentation, pytorch.org/tutorials/beginner/nlp/word_embeddings_tutorial.html#sphx-glr-beginner-nlp-word-embeddings-tutorial-py.\n",
    "\n",
    "Trevett, Ben. “Bentrevett/Pytorch-Sentiment-Analysis.” GitHub, github.com/bentrevett/pytorch-sentiment-analysis. "
   ]
  }
 ],
 "metadata": {
  "kernelspec": {
   "display_name": "Python 3",
   "language": "python",
   "name": "python3"
  },
  "language_info": {
   "codemirror_mode": {
    "name": "ipython",
    "version": 3
   },
   "file_extension": ".py",
   "mimetype": "text/x-python",
   "name": "python",
   "nbconvert_exporter": "python",
   "pygments_lexer": "ipython3",
   "version": "3.11.4"
  }
 },
 "nbformat": 4,
 "nbformat_minor": 5
}
